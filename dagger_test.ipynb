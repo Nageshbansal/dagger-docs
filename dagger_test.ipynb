{
 "cells": [
  {
   "cell_type": "code",
   "execution_count": null,
   "id": "9bf1daaf",
   "metadata": {},
   "outputs": [],
   "source": [
    "# installs the package locally\n",
    "!python setup.py develop"
   ]
  },
  {
   "cell_type": "code",
   "execution_count": 1,
   "id": "f0d6d9db",
   "metadata": {},
   "outputs": [
    {
     "name": "stdout",
     "output_type": "stream",
     "text": [
      "<dagger.connect.PlutoConnection fd=68, family=AddressFamily.AF_INET, type=SocketKind.SOCK_STREAM, proto=0, laddr=('192.168.4.2', 42310), raddr=('192.168.4.1', 23)>\n"
     ]
    }
   ],
   "source": [
    "import dagger\n",
    "import time\n",
    "# connecting with drone\n",
    "t = dagger.PlutoConnection()\n",
    "t.connect((\"192.168.4.1\",23))\n",
    "print(t)\n",
    "\n",
    "# setting up Raw RC\n",
    "cmd = dagger.SetRawRC(t)\n",
    "tk = dagger.SetCommand(t)\n",
    "# cmd.set_throttle(1600)\n",
    "\n",
    "\n",
    "\n"
   ]
  },
  {
   "cell_type": "code",
   "execution_count": 2,
   "id": "c111ce53",
   "metadata": {},
   "outputs": [],
   "source": [
    "cmd.set_throttle(1000)\n"
   ]
  },
  {
   "cell_type": "code",
   "execution_count": 7,
   "id": "adc0e212",
   "metadata": {},
   "outputs": [],
   "source": [
    "cmd.disarm_drone()"
   ]
  },
  {
   "cell_type": "code",
   "execution_count": 6,
   "id": "1395f6e9",
   "metadata": {},
   "outputs": [],
   "source": [
    "cmd.set_throttle(1700)"
   ]
  },
  {
   "cell_type": "code",
   "execution_count": 68,
   "id": "dbddb73f",
   "metadata": {},
   "outputs": [
    {
     "name": "stdout",
     "output_type": "stream",
     "text": [
      "disarming\n",
      "box arming\n",
      "runnning the CmdType.TAKE_OFF\n"
     ]
    }
   ],
   "source": [
    "# arms the drone \n",
    "def take_off():\n",
    "    cmd.disarm_drone()\n",
    "    cmd.box_arm()\n",
    "    tk.command(dagger.CmdType.TAKE_OFF)\n",
    "\n",
    "# def land():\n",
    "#     tk.command(dagger.CmdType.LAND)\n",
    "\n",
    "take_off()\n",
    "\n"
   ]
  },
  {
   "cell_type": "code",
   "execution_count": 54,
   "id": "63c786b6",
   "metadata": {},
   "outputs": [],
   "source": [
    "def pitch_forward():\n",
    "    cmd.set_pitch(1600)\n",
    "\n",
    "def pitch_backward():\n",
    "    cmd.set_pitch(1400)\n",
    "\n",
    "def roll_left():\n",
    "    cmd.set_roll(1400)\n",
    "\n",
    "def roll_right():\n",
    "    cmd.set_roll(1600)\n",
    "\n",
    "def left_yaw():\n",
    "    cmd.set_yaw(1200)\n",
    "\n",
    "def right_yaw():\n",
    "    cmd.set_yaw(1800)"
   ]
  },
  {
   "cell_type": "code",
   "execution_count": null,
   "id": "1ca2a8d6",
   "metadata": {},
   "outputs": [],
   "source": [
    "cmd.set_throttle()"
   ]
  },
  {
   "cell_type": "code",
   "execution_count": 43,
   "id": "fe46c6d2",
   "metadata": {},
   "outputs": [],
   "source": [
    "cmd.set_pitch(1200)"
   ]
  },
  {
   "cell_type": "code",
   "execution_count": 74,
   "id": "1f9f5597",
   "metadata": {},
   "outputs": [],
   "source": [
    "cmd.set_yaw(1700)\n",
    "cmd.set_yaw(1750)\n",
    "cmd.set_yaw(1800)"
   ]
  },
  {
   "cell_type": "code",
   "execution_count": 52,
   "id": "2603e87a",
   "metadata": {},
   "outputs": [],
   "source": [
    "cmd.set_roll(1700)"
   ]
  },
  {
   "cell_type": "code",
   "execution_count": 75,
   "id": "7ba539e5",
   "metadata": {},
   "outputs": [
    {
     "name": "stdout",
     "output_type": "stream",
     "text": [
      "runnning the CmdType.LAND\n"
     ]
    }
   ],
   "source": [
    "tk.command(dagger.CmdType.LAND)"
   ]
  },
  {
   "cell_type": "code",
   "execution_count": null,
   "id": "44a64e98",
   "metadata": {},
   "outputs": [],
   "source": [
    "cmd.box_arm()"
   ]
  },
  {
   "cell_type": "code",
   "execution_count": 11,
   "id": "5e4d1471",
   "metadata": {},
   "outputs": [],
   "source": [
    "cmd.disarm_drone()"
   ]
  },
  {
   "cell_type": "code",
   "execution_count": 103,
   "id": "43aa0ee1",
   "metadata": {},
   "outputs": [],
   "source": [
    "tk.command(dagger.CmdType.LAND)"
   ]
  }
 ],
 "metadata": {
  "kernelspec": {
   "display_name": "base",
   "language": "python",
   "name": "python3"
  },
  "language_info": {
   "codemirror_mode": {
    "name": "ipython",
    "version": 3
   },
   "file_extension": ".py",
   "mimetype": "text/x-python",
   "name": "python",
   "nbconvert_exporter": "python",
   "pygments_lexer": "ipython3",
   "version": "3.9.12"
  },
  "vscode": {
   "interpreter": {
    "hash": "b83c2220a064d0dee8dc079a781014a1a61cb7a138be14fe3df3183d84ab4b58"
   }
  }
 },
 "nbformat": 4,
 "nbformat_minor": 5
}
