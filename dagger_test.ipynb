{
 "cells": [
  {
   "cell_type": "code",
   "execution_count": null,
   "id": "9bf1daaf",
   "metadata": {},
   "outputs": [],
   "source": [
    "# installs the package locally\n",
    "!python setup.py develop"
   ]
  },
  {
   "cell_type": "code",
   "execution_count": null,
   "id": "f0d6d9db",
   "metadata": {},
   "outputs": [],
   "source": [
    "import dagger\n",
    "import time\n",
    "# connecting with drone\n",
    "t = dagger.PlutoConnection()\n",
    "t.connect((\"192.168.4.1\",23))\n",
    "print(t)\n",
    "\n",
    "# setting up Raw RC\n",
    "cmd = dagger.SetRawRC(t)\n",
    "tk = dagger.SetCommand(t)\n"
   ]
  },
  {
   "cell_type": "code",
   "execution_count": null,
   "id": "1395f6e9",
   "metadata": {},
   "outputs": [],
   "source": [
    "cmd.set_throttle(1700)"
   ]
  },
  {
   "cell_type": "code",
   "execution_count": null,
   "id": "1ca2a8d6",
   "metadata": {},
   "outputs": [],
   "source": [
    "cmd.set_throttle()"
   ]
  },
  {
   "cell_type": "code",
   "execution_count": null,
   "id": "fe46c6d2",
   "metadata": {},
   "outputs": [],
   "source": [
    "cmd.set_pitch(1200)"
   ]
  },
  {
   "cell_type": "code",
   "execution_count": null,
   "id": "1f9f5597",
   "metadata": {},
   "outputs": [],
   "source": [
    "cmd.set_yaw(1700)\n",
    "cmd.set_yaw(1750)\n",
    "cmd.set_yaw(1800)"
   ]
  },
  {
   "cell_type": "code",
   "execution_count": null,
   "id": "2603e87a",
   "metadata": {},
   "outputs": [],
   "source": [
    "cmd.set_roll(1700)"
   ]
  },
  {
   "cell_type": "code",
   "execution_count": null,
   "id": "7ba539e5",
   "metadata": {},
   "outputs": [],
   "source": [
    "tk.command(dagger.CmdType.LAND)"
   ]
  },
  {
   "cell_type": "code",
   "execution_count": null,
   "id": "44a64e98",
   "metadata": {},
   "outputs": [],
   "source": [
    "cmd.box_arm()"
   ]
  },
  {
   "cell_type": "code",
   "execution_count": null,
   "id": "5e4d1471",
   "metadata": {},
   "outputs": [],
   "source": [
    "cmd.disarm_drone()"
   ]
  },
  {
   "cell_type": "code",
   "execution_count": null,
   "id": "43aa0ee1",
   "metadata": {},
   "outputs": [],
   "source": [
    "tk.command(dagger.CmdType.LAND)"
   ]
  }
 ],
 "metadata": {
  "kernelspec": {
   "display_name": "base",
   "language": "python",
   "name": "python3"
  },
  "language_info": {
   "codemirror_mode": {
    "name": "ipython",
    "version": 3
   },
   "file_extension": ".py",
   "mimetype": "text/x-python",
   "name": "python",
   "nbconvert_exporter": "python",
   "pygments_lexer": "ipython3",
   "version": "3.9.12"
  },
  "vscode": {
   "interpreter": {
    "hash": "b83c2220a064d0dee8dc079a781014a1a61cb7a138be14fe3df3183d84ab4b58"
   }
  }
 },
 "nbformat": 4,
 "nbformat_minor": 5
}
