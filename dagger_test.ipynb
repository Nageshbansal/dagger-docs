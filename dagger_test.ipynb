{
 "cells": [
  {
   "cell_type": "code",
   "execution_count": null,
   "id": "9bf1daaf",
   "metadata": {},
   "outputs": [],
   "source": [
    "# installs the package locally\n",
    "!python setup.py develop"
   ]
  },
  {
   "cell_type": "code",
   "execution_count": null,
   "id": "f0d6d9db",
   "metadata": {},
   "outputs": [],
   "source": [
    "import dagger\n",
    "import time\n",
    "# connecting with drone\n",
    "t = dagger.PlutoConnection()\n",
    "t.connect((\"192.168.4.1\",23))\n",
    "print(t)\n",
    "\n",
    "# setting up Raw RC\n",
    "cmd = dagger.SetRawRC(t)\n",
    "\n",
    "# set throttle to 1000\n",
    "cmd.set_throttle(1000)\n",
    "\n"
   ]
  },
  {
   "cell_type": "code",
   "execution_count": null,
   "id": "dbddb73f",
   "metadata": {},
   "outputs": [],
   "source": [
    "# arms the drone \n",
    "cmd.arm_drone()\n",
    "\n",
    "# disarms the drone\n",
    "cmd.disarm_drone()\n",
    "\n",
    "# arms the drone \n",
    "cmd.arm_drone()"
   ]
  },
  {
   "cell_type": "code",
   "execution_count": null,
   "id": "b6a0e022",
   "metadata": {},
   "outputs": [],
   "source": [
    "cmd.set_throttle(1700)\n",
    "time.sleep(0.5)\n",
    "cmd.set_throttle(1700)\n",
    "time.sleep(0.5)\n",
    "cmd.set_throttle(1700)\n",
    "time.sleep(0.5)\n",
    "cmd.set_throttle(1700)\n",
    "time.sleep(0.5)\n",
    "cmd.set_throttle(1700)\n",
    "time.sleep(0.5)\n",
    "cmd.set_throttle(1700)\n",
    "time.sleep(0.5)\n",
    "# cmd.set_throttle(1750)\n",
    "# time.sleep(0.5)\n",
    "# cmd.set_throttle(1750)\n",
    "# time.sleep(0.5)\n",
    "# cmd.set_throttle(1750)\n",
    "# time.sleep(0.5)\n",
    "# cmd.set_throttle(1750)\n",
    "# time.sleep(0.5)\n",
    "# cmd.set_throttle(1750)\n",
    "# time.sleep(0.5)\n",
    "# cmd.set_throttle(1750)\n",
    "# time.sleep(0.5)\n",
    "# cmd.set_throttle(1740)\n",
    "# time.sleep(0.5)\n",
    "# cmd.set_throttle(1730)\n",
    "# time.sleep(0.5)\n",
    "# cmd.set_throttle(1720)\n",
    "# time.sleep(0.5)\n",
    "# cmd.set_throttle(1710)\n",
    "# time.sleep(0.5)\n",
    "cmd.set_throttle(1700)\n",
    "time.sleep(0.5)\n",
    "cmd.set_throttle(1650)\n",
    "time.sleep(0.1)\n",
    "cmd.set_throttle(1650)\n",
    "time.sleep(0.1)\n",
    "cmd.set_throttle(1600)\n",
    "time.sleep(0.1)\n",
    "cmd.set_throttle(1600)\n",
    "time.sleep(0.1)\n",
    "cmd.set_throttle(1600)\n",
    "time.sleep(0.1)\n",
    "cmd.set_throttle(1600)\n",
    "time.sleep(0.1)\n",
    "cmd.set_throttle(1600)\n",
    "time.sleep(0.1)\n",
    "cmd.set_throttle(1600)\n",
    "time.sleep(0.1)\n",
    "cmd.set_throttle(1500)\n",
    "time.sleep(0.1)\n",
    "cmd.set_throttle(1500)\n",
    "time.sleep(0.1)\n",
    "cmd.set_throttle(1500)\n",
    "time.sleep(0.1)\n"
   ]
  },
  {
   "cell_type": "code",
   "execution_count": null,
   "id": "43aa0ee1",
   "metadata": {},
   "outputs": [],
   "source": [
    "cmd.disarm_drone()"
   ]
  },
  {
   "cell_type": "code",
   "execution_count": null,
   "id": "fcba999c",
   "metadata": {},
   "outputs": [],
   "source": [
    "i = 0\n",
    "\n",
    "cin = dagger.SetAltitude(t)\n",
    "cin.altitude_request()"
   ]
  }
 ],
 "metadata": {
  "kernelspec": {
   "display_name": "base",
   "language": "python",
   "name": "python3"
  },
  "language_info": {
   "codemirror_mode": {
    "name": "ipython",
    "version": 3
   },
   "file_extension": ".py",
   "mimetype": "text/x-python",
   "name": "python",
   "nbconvert_exporter": "python",
   "pygments_lexer": "ipython3",
   "version": "3.9.12"
  },
  "vscode": {
   "interpreter": {
    "hash": "b83c2220a064d0dee8dc079a781014a1a61cb7a138be14fe3df3183d84ab4b58"
   }
  }
 },
 "nbformat": 4,
 "nbformat_minor": 5
}
