{
 "cells": [
  {
   "cell_type": "code",
   "execution_count": null,
   "metadata": {},
   "outputs": [],
   "source": [
    "import dagger\n",
    "import time\n",
    "# connecting with drone\n",
    "t = dagger.PlutoConnection()\n",
    "t.connect((\"192.168.4.1\",23))\n",
    "print(t)\n",
    "\n",
    "# setting up Raw RC\n",
    "count = 0\n",
    "cmd = dagger.SetRawRC(t)\n",
    "tk = dagger.SetCommand(t)\n",
    "while True:\n",
    "        cmd.box_arm()\n",
    "        # if count < 1:\n",
    "        #         cmd.disarm_drone()\n",
    "        #         cmd.box_arm()\n",
    "        #         tk.command(dagger.CmdType.TAKE_OFF)\n",
    "        #         count += 1\n",
    "\n",
    "                "
   ]
  }
 ],
 "metadata": {
  "kernelspec": {
   "display_name": "base",
   "language": "python",
   "name": "python3"
  },
  "language_info": {
   "codemirror_mode": {
    "name": "ipython",
    "version": 3
   },
   "file_extension": ".py",
   "mimetype": "text/x-python",
   "name": "python",
   "nbconvert_exporter": "python",
   "pygments_lexer": "ipython3",
   "version": "3.9.12"
  },
  "orig_nbformat": 4,
  "vscode": {
   "interpreter": {
    "hash": "b83c2220a064d0dee8dc079a781014a1a61cb7a138be14fe3df3183d84ab4b58"
   }
  }
 },
 "nbformat": 4,
 "nbformat_minor": 2
}
