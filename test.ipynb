{
 "cells": [
  {
   "cell_type": "code",
   "execution_count": 2,
   "metadata": {},
   "outputs": [
    {
     "name": "stdout",
     "output_type": "stream",
     "text": [
      "disarming\n"
     ]
    }
   ],
   "source": [
    "cmd.disarm_drone()"
   ]
  },
  {
   "cell_type": "code",
   "execution_count": 1,
   "metadata": {},
   "outputs": [
    {
     "name": "stdout",
     "output_type": "stream",
     "text": [
      "<dagger.connect.PlutoConnection fd=67, family=AddressFamily.AF_INET, type=SocketKind.SOCK_STREAM, proto=0, laddr=('192.168.4.2', 38116), raddr=('192.168.4.1', 23)>\n",
      "box arming\n",
      "disarming\n",
      "box arming\n",
      "runnning the CmdType.TAKE_OFF\n",
      "box arming\n",
      "box arming\n",
      "box arming\n",
      "box arming\n",
      "box arming\n",
      "box arming\n",
      "box arming\n",
      "box arming\n",
      "box arming\n",
      "box arming\n",
      "box arming\n",
      "box arming\n",
      "box arming\n",
      "box arming\n",
      "box arming\n"
     ]
    },
    {
     "ename": "KeyboardInterrupt",
     "evalue": "",
     "output_type": "error",
     "traceback": [
      "\u001b[0;31m---------------------------------------------------------------------------\u001b[0m",
      "\u001b[0;31mKeyboardInterrupt\u001b[0m                         Traceback (most recent call last)",
      "\u001b[1;32m/home/nageshbansal/soc/dagger/test.ipynb Cell 2\u001b[0m in \u001b[0;36m<cell line: 13>\u001b[0;34m()\u001b[0m\n\u001b[1;32m     <a href='vscode-notebook-cell:/home/nageshbansal/soc/dagger/test.ipynb#W1sZmlsZQ%3D%3D?line=10'>11</a>\u001b[0m tk \u001b[39m=\u001b[39m dagger\u001b[39m.\u001b[39mSetCommand(t)\n\u001b[1;32m     <a href='vscode-notebook-cell:/home/nageshbansal/soc/dagger/test.ipynb#W1sZmlsZQ%3D%3D?line=11'>12</a>\u001b[0m \u001b[39mwhile\u001b[39;00m \u001b[39mTrue\u001b[39;00m:\n\u001b[0;32m---> <a href='vscode-notebook-cell:/home/nageshbansal/soc/dagger/test.ipynb#W1sZmlsZQ%3D%3D?line=12'>13</a>\u001b[0m         cmd\u001b[39m.\u001b[39;49mbox_arm()\n\u001b[1;32m     <a href='vscode-notebook-cell:/home/nageshbansal/soc/dagger/test.ipynb#W1sZmlsZQ%3D%3D?line=13'>14</a>\u001b[0m         \u001b[39mif\u001b[39;00m count \u001b[39m<\u001b[39m \u001b[39m1\u001b[39m:\n\u001b[1;32m     <a href='vscode-notebook-cell:/home/nageshbansal/soc/dagger/test.ipynb#W1sZmlsZQ%3D%3D?line=14'>15</a>\u001b[0m                 cmd\u001b[39m.\u001b[39mdisarm_drone()\n",
      "File \u001b[0;32m~/soc/dagger/dagger/set_raw_rc.py:72\u001b[0m, in \u001b[0;36mSetRawRC.box_arm\u001b[0;34m(self)\u001b[0m\n\u001b[1;32m     70\u001b[0m \u001b[39mself\u001b[39m\u001b[39m.\u001b[39m_send()\n\u001b[1;32m     71\u001b[0m \u001b[39mprint\u001b[39m(\u001b[39m\"\u001b[39m\u001b[39mbox arming\u001b[39m\u001b[39m\"\u001b[39m)\n\u001b[0;32m---> 72\u001b[0m time\u001b[39m.\u001b[39;49msleep(\u001b[39m0.5\u001b[39;49m)\n",
      "\u001b[0;31mKeyboardInterrupt\u001b[0m: "
     ]
    }
   ],
   "source": [
    "import dagger\n",
    "import time\n",
    "# connecting with drone\n",
    "t = dagger.PlutoConnection()\n",
    "t.connect((\"192.168.4.1\",23))\n",
    "print(t)\n",
    "\n",
    "# setting up Raw RC\n",
    "count = 0\n",
    "cmd = dagger.SetRawRC(t)\n",
    "tk = dagger.SetCommand(t)\n",
    "while True:\n",
    "        cmd.box_arm()\n",
    "        # if count < 1:\n",
    "        #         cmd.disarm_drone()\n",
    "        #         cmd.box_arm()\n",
    "        #         tk.command(dagger.CmdType.TAKE_OFF)\n",
    "        #         count += 1\n",
    "\n",
    "                "
   ]
  }
 ],
 "metadata": {
  "kernelspec": {
   "display_name": "base",
   "language": "python",
   "name": "python3"
  },
  "language_info": {
   "codemirror_mode": {
    "name": "ipython",
    "version": 3
   },
   "file_extension": ".py",
   "mimetype": "text/x-python",
   "name": "python",
   "nbconvert_exporter": "python",
   "pygments_lexer": "ipython3",
   "version": "3.9.12"
  },
  "orig_nbformat": 4,
  "vscode": {
   "interpreter": {
    "hash": "b83c2220a064d0dee8dc079a781014a1a61cb7a138be14fe3df3183d84ab4b58"
   }
  }
 },
 "nbformat": 4,
 "nbformat_minor": 2
}
